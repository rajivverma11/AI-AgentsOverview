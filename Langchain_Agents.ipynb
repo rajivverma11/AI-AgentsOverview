{
  "nbformat": 4,
  "nbformat_minor": 0,
  "metadata": {
    "colab": {
      "provenance": [],
      "authorship_tag": "ABX9TyOFhONeuzHdDJnWzt4EU3wO",
      "include_colab_link": true
    },
    "kernelspec": {
      "name": "python3",
      "display_name": "Python 3"
    },
    "language_info": {
      "name": "python"
    }
  },
  "cells": [
    {
      "cell_type": "markdown",
      "metadata": {
        "id": "view-in-github",
        "colab_type": "text"
      },
      "source": [
        "<a href=\"https://colab.research.google.com/github/rajivverma11/AI-AgentsOverview/blob/main/Langchain_Agents.ipynb\" target=\"_parent\"><img src=\"https://colab.research.google.com/assets/colab-badge.svg\" alt=\"Open In Colab\"/></a>"
      ]
    },
    {
      "cell_type": "code",
      "execution_count": null,
      "metadata": {
        "collapsed": true,
        "id": "ZiL5pyxz23-n"
      },
      "outputs": [],
      "source": [
        "# Install LangChain Hub, a repository for storing and sharing LangChain prompts and chains\n",
        "!pip install langchainhub\n",
        "\n",
        "# Install the LangChain OpenAI integration, which provides easy access to OpenAI models\n",
        "!pip install langchain-openai\n",
        "\n",
        "# Install the core LangChain library, which provides tools for building applications with LLMs\n",
        "!pip install langchain\n",
        "\n",
        "# Install FAISS (Facebook AI Similarity Search), a library for efficient similarity search and clustering of dense vectors\n",
        "!pip install faiss-cpu\n",
        "\n",
        "# Upgrade LangChain Community and install Tavily Python, which provides web search functionalities for LangChain\n",
        "!pip install -U langchain-community tavily-python\n",
        "\n",
        "# Install a specific version of Gradio Client (0.2.10), a package for interacting with Gradio interfaces programmatically\n",
        "!pip install gradio_client==0.2.10\n",
        "\n",
        "# Install Gradio version 3.38.0, a library for creating web-based UI components for AI models and applications\n",
        "!pip install gradio==3.38.0\n",
        "\n",
        "# Install LangChain Community\n",
        "!pip install langchain_community\n"
      ]
    },
    {
      "cell_type": "code",
      "source": [
        "# Import KaggleHub, a library for accessing datasets and models from Kaggle\n",
        "import kagglehub\n",
        "\n",
        "# Import CSV module for reading and writing CSV files\n",
        "import csv\n",
        "\n",
        "# Import pandas for data manipulation and analysis\n",
        "import pandas as pd\n",
        "\n",
        "# Import math module for mathematical operations\n",
        "import math\n",
        "\n",
        "# Import NumPy for numerical computations and working with arrays\n",
        "import numpy as np\n",
        "\n",
        "# Import os module for interacting with the operating system\n",
        "import os\n",
        "\n",
        "# Import getpass module for securely handling user input (e.g., passwords)\n",
        "import getpass\n",
        "\n",
        "# Import StrOutputParser from LangChain Core to process and parse output strings\n",
        "from langchain_core.output_parsers import StrOutputParser\n",
        "\n",
        "# Import Google Drive module for mounting Google Drive (Used in Google Colab)\n",
        "from google.colab import drive  # Used for mounting Google Drive"
      ],
      "metadata": {
        "id": "ljU9TCsB4u70"
      },
      "execution_count": null,
      "outputs": []
    },
    {
      "cell_type": "code",
      "source": [
        "from langchain_core.tools import tool\n",
        "\n",
        "@tool\n",
        "def multiply(first_int:int, second_int:int) -> int:\n",
        "  \"\"\"Multiplies two integers\"\"\"\n",
        "  return first_int * second_int\n"
      ],
      "metadata": {
        "id": "FVwwo80z43AO"
      },
      "execution_count": null,
      "outputs": []
    },
    {
      "cell_type": "code",
      "source": [
        "print(multiply.name)\n",
        "print(multiply.description)\n",
        "\n",
        "result1= multiply.invoke({\"first_int\":2, \"second_int\":3})\n",
        "print(result1)"
      ],
      "metadata": {
        "colab": {
          "base_uri": "https://localhost:8080/"
        },
        "id": "reIcrWuD5JaS",
        "outputId": "00106bcb-acc0-4e44-94f4-e22049a93c54"
      },
      "execution_count": null,
      "outputs": [
        {
          "output_type": "stream",
          "name": "stdout",
          "text": [
            "multiply\n",
            "Multiplies two integers\n",
            "6\n"
          ]
        }
      ]
    },
    {
      "cell_type": "code",
      "source": [
        "from langchain.tools.render import render_text_description\n",
        "\n",
        "render_tools = render_text_description([multiply])\n",
        "print(render_tools)"
      ],
      "metadata": {
        "colab": {
          "base_uri": "https://localhost:8080/"
        },
        "id": "vBGUgbQQ7n0p",
        "outputId": "9d799ed7-9772-4f14-ee51-9d7355cf7d1d"
      },
      "execution_count": null,
      "outputs": [
        {
          "output_type": "stream",
          "name": "stdout",
          "text": [
            "multiply(first_int: int, second_int: int) -> int - Multiplies two integers\n"
          ]
        }
      ]
    },
    {
      "cell_type": "code",
      "source": [
        "from langchain_core.prompts import ChatPromptTemplate\n",
        "\n",
        "system_prompt = f\"\"\"you are assistant with following tools:\n",
        "{render_tools}\n",
        "Given a user query, return tool name and arguments in JSON format with 'name' and 'arguments' keys.\n",
        "\"\"\"\n",
        "\n",
        "prompt = ChatPromptTemplate.from_messages([\n",
        "    (\"system\", system_prompt),\n",
        "    (\"user\", \"{input}\")\n",
        "])\n",
        "\n",
        "\n"
      ],
      "metadata": {
        "id": "zjpBpVmD8ywc"
      },
      "execution_count": null,
      "outputs": []
    },
    {
      "cell_type": "code",
      "source": [
        "from langchain_openai import ChatOpenAI\n",
        "\n",
        "os.environ[\"OPENAI_API_KEY\"] = getpass.getpass(\"OpenAI API Key:\")\n",
        "model=ChatOpenAI(model='gpt-4o-mini', temperature=0)\n",
        "\n",
        "chain=prompt|model\n",
        "result = chain.invoke({\"input\":\"what is 4 times 5\"})\n",
        "print(result.content)"
      ],
      "metadata": {
        "colab": {
          "base_uri": "https://localhost:8080/"
        },
        "id": "KJuzWc-8_HKo",
        "outputId": "f70ec61e-0aca-42bf-ff83-35252638a069"
      },
      "execution_count": null,
      "outputs": [
        {
          "output_type": "stream",
          "name": "stdout",
          "text": [
            "OpenAI API Key:··········\n",
            "{\n",
            "  \"name\": \"multiply\",\n",
            "  \"arguments\": {\n",
            "    \"first_int\": 4,\n",
            "    \"second_int\": 5\n",
            "  }\n",
            "}\n"
          ]
        }
      ]
    },
    {
      "cell_type": "code",
      "source": [
        "from langchain_core.output_parsers import JsonOutputParser\n",
        "\n",
        "parsed_output_chain = prompt | model | JsonOutputParser()\n",
        "parsed_output_result = parsed_output_chain.invoke({\"input\":\"what is 13 times 5\"})\n",
        "print(parsed_output_result)\n"
      ],
      "metadata": {
        "colab": {
          "base_uri": "https://localhost:8080/"
        },
        "id": "TQT1DWrVB6ab",
        "outputId": "6895cdb4-93a9-42f0-b229-60756c923e7f"
      },
      "execution_count": null,
      "outputs": [
        {
          "output_type": "stream",
          "name": "stdout",
          "text": [
            "{'name': 'multiply', 'arguments': {'first_int': 13, 'second_int': 5}}\n"
          ]
        }
      ]
    },
    {
      "cell_type": "code",
      "source": [
        "from operator import itemgetter\n",
        "chain = prompt | model | JsonOutputParser() | itemgetter(\"arguments\") | multiply\n",
        "\n",
        "final_result = chain.invoke({\"input\":\"what is 13 times 5\"})\n",
        "print(final_result)"
      ],
      "metadata": {
        "colab": {
          "base_uri": "https://localhost:8080/"
        },
        "id": "DOr6JT2TEW_d",
        "outputId": "8a835f56-36f3-443e-e207-6feceeb64f65"
      },
      "execution_count": null,
      "outputs": [
        {
          "output_type": "stream",
          "name": "stdout",
          "text": [
            "65\n"
          ]
        }
      ]
    },
    {
      "cell_type": "code",
      "source": [
        "from langchain_core.tools import tool\n",
        "\n",
        "@tool\n",
        "def add(first_int:int, second_int:int) -> int:\n",
        "  \"\"\"Adds two integers\"\"\"\n",
        "  return first_int + second_int\n",
        "\n",
        "@tool\n",
        "def subtract(first_int:int, second_int:int) -> int:\n",
        "  \"\"\"Subtracts two integers\"\"\"\n",
        "  return first_int - second_int\n",
        "\n",
        "@tool\n",
        "def divide(first_int:int, second_int:int) -> int:\n",
        "  \"\"\"Divides two integers\"\"\"\n",
        "  return first_int / second_int\n",
        "\n",
        "@tool\n",
        "def exponential (first_int:int, second_int:int) -> int:\n",
        "  \"\"\"Exponentiates two integers\"\"\"\n",
        "  return first_int ** second_int\n",
        "\n",
        "@tool\n",
        "def modulo(first_int: int, second_int: int) -> int:\n",
        "    \"\"\"Find the remainder when the first integer is divided by the second integer.\"\"\"\n",
        "    if second_int == 0:\n",
        "        raise ValueError(\"Modulo by zero is not allowed.\")\n",
        "    return first_int % second_int"
      ],
      "metadata": {
        "id": "EmVhx6zQHXpG"
      },
      "execution_count": null,
      "outputs": []
    },
    {
      "cell_type": "code",
      "source": [
        "tools = [multiply, add, subtract, divide, exponential,modulo]\n",
        "render_tools = render_text_description(tools)\n",
        "print(render_tools)\n",
        "\n",
        "system_prompt=f\"\"\"You are an assistant with following tools\n",
        "{render_tools}\n",
        "Given a user query, return tool name and arguments in JSON format with 'name' and 'arguments' keys.\n",
        "\"\"\"\n",
        "\n",
        "prompt = ChatPromptTemplate.from_messages([\n",
        "    (\"system\", system_prompt),\n",
        "    (\"user\", \"{input}\")\n",
        "])\n"
      ],
      "metadata": {
        "colab": {
          "base_uri": "https://localhost:8080/"
        },
        "collapsed": true,
        "id": "GACwOt96HlOF",
        "outputId": "273bd86f-b371-4c0f-9de5-6337789abfe9"
      },
      "execution_count": null,
      "outputs": [
        {
          "output_type": "stream",
          "name": "stdout",
          "text": [
            "multiply(first_int: int, second_int: int) -> int - Multiplies two integers\n",
            "add(first_int: int, second_int: int) -> int - Adds two integers\n",
            "subtract(first_int: int, second_int: int) -> int - Subtracts two integers\n",
            "divide(first_int: int, second_int: int) -> int - Divides two integers\n",
            "exponential(first_int: int, second_int: int) -> int - Exponentiates two integers\n",
            "modulo(first_int: int, second_int: int) -> int - Find the remainder when the first integer is divided by the second integer.\n"
          ]
        }
      ]
    },
    {
      "cell_type": "code",
      "source": [
        "# Define a function to dynamically select and execute the appropriate tool\n",
        "def tool_chain(model_output):\n",
        "  tool_map = {tool.name:tool for tool in tools}\n",
        "  choosen_tool = tool_map[model_output[\"name\"]]\n",
        "  return itemgetter('arguments') | choosen_tool\n"
      ],
      "metadata": {
        "id": "P2Ic2zp_IrUE"
      },
      "execution_count": null,
      "outputs": []
    },
    {
      "cell_type": "markdown",
      "source": [],
      "metadata": {
        "id": "jIPlkqbJEkrK"
      }
    },
    {
      "cell_type": "code",
      "source": [
        "from langchain_core.runnables import RunnablePassthrough\n",
        "chain = prompt | model | JsonOutputParser() | RunnablePassthrough.assign(output=tool_chain)\n",
        "\n",
        "final_result = chain.invoke({\"input\":\"what is 3 plus 312\"})\n",
        "print(final_result)"
      ],
      "metadata": {
        "colab": {
          "base_uri": "https://localhost:8080/"
        },
        "id": "hhnDSdSUg5T6",
        "outputId": "277b0fc8-a77f-4058-d376-a5ac54727149"
      },
      "execution_count": null,
      "outputs": [
        {
          "output_type": "stream",
          "name": "stdout",
          "text": [
            "{'name': 'add', 'arguments': {'first_int': 3, 'second_int': 312}, 'output': 315}\n"
          ]
        }
      ]
    },
    {
      "cell_type": "code",
      "source": [
        "# Above version in elaborative way\n",
        "\n",
        "# llm_input = prompt.invoke({\"input\": \"what is 3 plus 312\"})\n",
        "# print(f\"llm_input: {llm_input}\")\n",
        "# print('\\n')\n",
        "\n",
        "# model_response = model.invoke(llm_input)\n",
        "# print(f\"model_response: {model_response}\")\n",
        "# print('\\n')\n",
        "\n",
        "# parsed = JsonOutputParser().invoke(model_response)\n",
        "# print(f\"parsed: {parsed}\")\n",
        "# print('\\n')\n",
        "\n",
        "# final = parsed.copy()\n",
        "# final[\"output\"] = tool_chain(parsed)\n",
        "# print(final)\n",
        "# print('\\n')\n",
        "\n",
        "# final[\"output\"] = tool_chain(parsed)\n",
        "# print(final)\n"
      ],
      "metadata": {
        "colab": {
          "base_uri": "https://localhost:8080/"
        },
        "id": "5b6Hj5tpCAdt",
        "outputId": "9a581067-a355-4a59-d425-415107a05d8d"
      },
      "execution_count": null,
      "outputs": [
        {
          "output_type": "stream",
          "name": "stdout",
          "text": [
            "llm_input: messages=[SystemMessage(content=\"You are an assistant with following tools\\nmultiply(first_int: int, second_int: int) -> int - Multiplies two integers\\nadd(first_int: int, second_int: int) -> int - Adds two integers\\nsubtract(first_int: int, second_int: int) -> int - Subtracts two integers\\ndivide(first_int: int, second_int: int) -> int - Divides two integers\\nexponential(first_int: int, second_int: int) -> int - Exponentiates two integers\\nGiven a user query, return tool name and arguments in JSON format with 'name' and 'arguments' keys.\\n\", additional_kwargs={}, response_metadata={}), HumanMessage(content='what is 3 plus 312', additional_kwargs={}, response_metadata={})]\n",
            "\n",
            "\n",
            "model_response: content='{\\n  \"name\": \"add\",\\n  \"arguments\": {\\n    \"first_int\": 3,\\n    \"second_int\": 312\\n  }\\n}' additional_kwargs={'refusal': None} response_metadata={'token_usage': {'completion_tokens': 33, 'prompt_tokens': 148, 'total_tokens': 181, 'completion_tokens_details': {'accepted_prediction_tokens': 0, 'audio_tokens': 0, 'reasoning_tokens': 0, 'rejected_prediction_tokens': 0}, 'prompt_tokens_details': {'audio_tokens': 0, 'cached_tokens': 0}}, 'model_name': 'gpt-4o-mini-2024-07-18', 'system_fingerprint': 'fp_1ea406d138', 'id': 'chatcmpl-BFIhUUREFptimtxb3bQyfPNMSfoKn', 'finish_reason': 'stop', 'logprobs': None} id='run-1764627b-7ddd-440b-9aa0-5b989046a8b9-0' usage_metadata={'input_tokens': 148, 'output_tokens': 33, 'total_tokens': 181, 'input_token_details': {'audio': 0, 'cache_read': 0}, 'output_token_details': {'audio': 0, 'reasoning': 0}}\n",
            "\n",
            "\n",
            "parsed: {'name': 'add', 'arguments': {'first_int': 3, 'second_int': 312}}\n",
            "\n",
            "\n",
            "name='add' description='Adds two integers' args_schema=<class 'langchain_core.utils.pydantic.add'> func=<function add at 0x7ade5b31e160>\n",
            "operator.itemgetter('arguments')\n",
            "{'name': 'add', 'arguments': {'first_int': 3, 'second_int': 312}, 'output': RunnableLambda(itemgetter('arguments'))\n",
            "| StructuredTool(name='add', description='Adds two integers', args_schema=<class 'langchain_core.utils.pydantic.add'>, func=<function add at 0x7ade5b31e160>)}\n",
            "\n",
            "\n",
            "name='add' description='Adds two integers' args_schema=<class 'langchain_core.utils.pydantic.add'> func=<function add at 0x7ade5b31e160>\n",
            "operator.itemgetter('arguments')\n",
            "{'name': 'add', 'arguments': {'first_int': 3, 'second_int': 312}, 'output': RunnableLambda(itemgetter('arguments'))\n",
            "| StructuredTool(name='add', description='Adds two integers', args_schema=<class 'langchain_core.utils.pydantic.add'>, func=<function add at 0x7ade5b31e160>)}\n"
          ]
        }
      ]
    },
    {
      "cell_type": "code",
      "source": [
        "# tests\n",
        "\n",
        "# Test cases\n",
        "print(chain.invoke({\"input\": \"What is 15 divided by 3?\"}))  # Expected output: 5.0\n",
        "print('\\n')\n",
        "print(chain.invoke({\"input\": \"What is 7 modulo 4?\"}))        # Expected output: 3\n",
        "print('\\n')\n",
        "print(chain.invoke({\"input\": \"What is 20 minus 8?\"}))        # Expected output: 12\n",
        "print('\\n')\n",
        "print(chain.invoke({\"input\": \"What is 2 to the power of 5?\"})) # Expected output: 32"
      ],
      "metadata": {
        "colab": {
          "base_uri": "https://localhost:8080/"
        },
        "id": "Ka8MUE4_FA5V",
        "outputId": "517fb93e-9421-4f3e-a0b0-6843b90bf0f1"
      },
      "execution_count": null,
      "outputs": [
        {
          "output_type": "stream",
          "name": "stdout",
          "text": [
            "{'name': 'divide', 'arguments': {'first_int': 15, 'second_int': 3}, 'output': 5.0}\n",
            "\n",
            "\n",
            "{'name': 'modulo', 'arguments': {'first_int': 7, 'second_int': 4}, 'output': 3}\n",
            "\n",
            "\n",
            "{'name': 'subtract', 'arguments': {'first_int': 20, 'second_int': 8}, 'output': 12}\n",
            "\n",
            "\n",
            "{'name': 'exponential', 'arguments': {'first_int': 2, 'second_int': 5}, 'output': 32}\n"
          ]
        }
      ]
    }
  ]
}